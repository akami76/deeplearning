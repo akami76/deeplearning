{
 "cells": [
  {
   "cell_type": "markdown",
   "metadata": {},
   "source": [
    "# 2. 제어\n",
    "## 2.1 if else\n",
    "* python 에서는 제어를 위한 괄호는 없지만 대신 띄어쓰기가 그 역할을 한다."
   ]
  },
  {
   "cell_type": "code",
   "execution_count": 3,
   "metadata": {},
   "outputs": [
    {
     "name": "stdout",
     "output_type": "stream",
     "text": [
      "Tall\n"
     ]
    }
   ],
   "source": [
    "size = 165\n",
    "\n",
    "if size > 160:\n",
    "   print(\"Tall\")\n",
    "else:\n",
    "   print(\"Small\")"
   ]
  },
  {
   "cell_type": "markdown",
   "metadata": {},
   "source": [
    "## 2.2 while loop\n",
    " * 일정 조건 동안 반복처리"
   ]
  },
  {
   "cell_type": "code",
   "execution_count": 9,
   "metadata": {},
   "outputs": [
    {
     "name": "stdout",
     "output_type": "stream",
     "text": [
      "0\n",
      "1\n",
      "2\n",
      "3\n",
      "4\n",
      "5\n",
      "6\n",
      "7\n",
      "8\n",
      "9\n"
     ]
    }
   ],
   "source": [
    "i = 0\n",
    "while i<10:\n",
    "  print(i)\n",
    "  i=i+1"
   ]
  },
  {
   "cell_type": "code",
   "execution_count": 10,
   "metadata": {},
   "outputs": [
    {
     "name": "stdout",
     "output_type": "stream",
     "text": [
      "44  보다 작습니다.\n",
      "35  보다 큰 수 입니다.\n",
      "36  보다 큰 수 입니다.\n",
      "37  보다 큰 수 입니다.\n",
      "38  정확히 맞췄습니다.\n",
      "End\n"
     ]
    }
   ],
   "source": [
    "#Guess number\n",
    "\n",
    "mynumber = 38\n",
    "\n",
    "while True:\n",
    "    in_data = int(input(\"0~100 사이의 숫자를 넣어주세요.\"))\n",
    "    if in_data > mynumber:\n",
    "        print(in_data, \" 보다 작습니다.\")\n",
    "    elif in_data == mynumber:\n",
    "        print(in_data, \" 정확히 맞췄습니다.\")\n",
    "        break\n",
    "    else :\n",
    "        print(in_data, \" 보다 큰 수 입니다.\")\n",
    "print(\"End\")"
   ]
  },
  {
   "cell_type": "markdown",
   "metadata": {},
   "source": [
    "## 2.3 for loop\n",
    " * for [변수] in 리스트(또는 튜플, 문자열):\n",
    "     처리할 Block"
   ]
  },
  {
   "cell_type": "code",
   "execution_count": 11,
   "metadata": {},
   "outputs": [
    {
     "name": "stdout",
     "output_type": "stream",
     "text": [
      "손오공\n",
      "저팔계\n",
      "사오정\n"
     ]
    }
   ],
   "source": [
    "name = ['손오공', '저팔계', '사오정']\n",
    "\n",
    "for i in name:\n",
    "    print(i)"
   ]
  },
  {
   "cell_type": "code",
   "execution_count": 13,
   "metadata": {},
   "outputs": [
    {
     "name": "stdout",
     "output_type": "stream",
     "text": [
      "손오공 90\n",
      "저팔계 80\n",
      "사오정 10\n"
     ]
    }
   ],
   "source": [
    "name = [('손오공',90),('저팔계', 80), ('사오정', 10)]\n",
    "\n",
    "for (nm, score) in name:\n",
    "    print(nm, score)"
   ]
  },
  {
   "cell_type": "code",
   "execution_count": 14,
   "metadata": {},
   "outputs": [
    {
     "name": "stdout",
     "output_type": "stream",
     "text": [
      "range(0, 10)\n"
     ]
    }
   ],
   "source": [
    "a = range(10)\n",
    "print(a)"
   ]
  },
  {
   "cell_type": "code",
   "execution_count": 16,
   "metadata": {},
   "outputs": [
    {
     "name": "stdout",
     "output_type": "stream",
     "text": [
      "1\n",
      "2\n",
      "3\n",
      "4\n",
      "5\n",
      "6\n",
      "7\n",
      "8\n",
      "9\n",
      "10\n",
      "11\n",
      "12\n",
      "13\n",
      "14\n",
      "15\n",
      "16\n",
      "17\n",
      "18\n",
      "19\n"
     ]
    }
   ],
   "source": [
    "#range(start, end-1)\n",
    "for i in range(1,20):\n",
    "    print(i)"
   ]
  },
  {
   "cell_type": "code",
   "execution_count": null,
   "metadata": {},
   "outputs": [],
   "source": []
  }
 ],
 "metadata": {
  "kernelspec": {
   "display_name": "Python 3",
   "language": "python",
   "name": "python3"
  },
  "language_info": {
   "codemirror_mode": {
    "name": "ipython",
    "version": 3
   },
   "file_extension": ".py",
   "mimetype": "text/x-python",
   "name": "python",
   "nbconvert_exporter": "python",
   "pygments_lexer": "ipython3",
   "version": "3.6.3"
  }
 },
 "nbformat": 4,
 "nbformat_minor": 2
}
