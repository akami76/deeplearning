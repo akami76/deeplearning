{
 "cells": [
  {
   "cell_type": "markdown",
   "metadata": {},
   "source": [
    "# 그외 PyQt로 어플리케이션 실행하기"
   ]
  },
  {
   "cell_type": "code",
   "execution_count": 1,
   "metadata": {},
   "outputs": [
    {
     "data": {
      "text/plain": [
       "0"
      ]
     },
     "execution_count": 1,
     "metadata": {},
     "output_type": "execute_result"
    }
   ],
   "source": [
    "import sys\n",
    "from PyQt5.QtWidgets import *\n",
    "\n",
    "app = QApplication(sys.argv)\n",
    "label = QLabel(\"Hello PyQt\")\n",
    "label.show()\n",
    "app.exec_()"
   ]
  },
  {
   "cell_type": "code",
   "execution_count": null,
   "metadata": {},
   "outputs": [],
   "source": [
    "import sys\n",
    "from PyQt5.QtWidgets import *\n",
    "from PyQt5.QtCore import *\n",
    "\n",
    "class MyWindow(QMainWindow):\n",
    "    def __init__(self):\n",
    "        super().__init__()\n",
    "        self.setWindowTitle(\"PyStock\")\n",
    "        self.setGeometry(300, 300, 300, 400)\n",
    "\n",
    "        btn1 = QPushButton(\"Click me\", self)\n",
    "        btn1.move(20, 20)\n",
    "        btn1.clicked.connect(self.btn1_clicked)\n",
    "\n",
    "    def btn1_clicked(self):\n",
    "        QMessageBox.about(self, \"message\", \"clicked\")\n",
    "\n",
    "if __name__ == \"__main__\":\n",
    "    app = QApplication(sys.argv)\n",
    "    myWindow = MyWindow()\n",
    "    myWindow.show()\n",
    "    app.exec_()\n",
    "\n",
    "btn1 = QPushButton(\"Click me\", self)\n",
    "    btn1.move(20, 20)\n",
    "    btn1.clicked.connect(self.btn1_clicked)\n",
    "\n",
    "def btn1_clicked(self):\n",
    "    QMessageBox.about(self, \"message\", \"clicked\")\n",
    "\n",
    "    \n",
    "btn1 = QPushButton(\"Click me\", self)\n",
    "btn1.move(20, 20)\n",
    "\n",
    "def btn1_clicked(self):\n",
    "    QMessageBox.about(self, \"message\", \"clicked\")\n",
    "\n",
    "def __init__(self):\n",
    "    # 코드 생략\n",
    "    btn1.clicked.connect(self.btn1_clicked)    "
   ]
  }
 ],
 "metadata": {
  "kernelspec": {
   "display_name": "Python 3",
   "language": "python",
   "name": "python3"
  },
  "language_info": {
   "codemirror_mode": {
    "name": "ipython",
    "version": 3
   },
   "file_extension": ".py",
   "mimetype": "text/x-python",
   "name": "python",
   "nbconvert_exporter": "python",
   "pygments_lexer": "ipython3",
   "version": "3.6.3"
  }
 },
 "nbformat": 4,
 "nbformat_minor": 2
}
