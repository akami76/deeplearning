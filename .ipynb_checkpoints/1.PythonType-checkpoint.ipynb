{
 "cells": [
  {
   "cell_type": "markdown",
   "metadata": {},
   "source": [
    "# Python의 데이터 타입 #"
   ]
  },
  {
   "cell_type": "markdown",
   "metadata": {},
   "source": [
    "## 1. 수치 자료형\n",
    "### 가. 정수 int"
   ]
  },
  {
   "cell_type": "code",
   "execution_count": 6,
   "metadata": {},
   "outputs": [
    {
     "name": "stdout",
     "output_type": "stream",
     "text": [
      "1. type = <class 'int'>\n",
      "   id = 4483397744\n",
      "   a =3\n",
      "2. a*3 = 9\n",
      "3. b = 9\n"
     ]
    }
   ],
   "source": [
    "#java와 달리 Type 선언없이 변수에 할당하면 그 타입으로 변수 선언\n",
    "a = 3\n",
    "b = a*3\n",
    "#한번 제대로 할당되었나 확인\n",
    "#print(a)\n",
    "print(\"1. type = {}\\n   id = {}\\n   a ={}\".format(type(a), id(a), a))\n",
    "print(\"2. a*3 = {}\".format(a*3))\n",
    "print(\"3. b = {}\".format(b))\n"
   ]
  },
  {
   "cell_type": "markdown",
   "metadata": {},
   "source": [
    "### 나. 소수 flat"
   ]
  },
  {
   "cell_type": "code",
   "execution_count": null,
   "metadata": {},
   "outputs": [],
   "source": [
    "#위의 id를 보면 다르다 즉 위의 a와 아래 a는 다르다.\n",
    "a = 3.0\n",
    "b = a * 3\n",
    "print(\"1. type = {}\\n   id = {}\\n   a ={}\".format(type(a), id(a), a))\n",
    "print(\"2. a*3 = {}\".format(a*3))\n",
    "print(\"3. b = {}\".format(b))"
   ]
  },
  {
   "cell_type": "markdown",
   "metadata": {},
   "source": [
    "### 다. 복소수 complex\n",
    "* $$i^2 = -1 $$\n",
    "* 이때, 허수부 뒤에는 j 또는 J로 표현한다.\n",
    "* ps) 잊혀진 어두운 고등학교 시절의 수학시간을 떠올리게해서 불쾌하지만, 아쉬우니 다시본다.\n",
    "* ps) 복소수 $x=yi+b$ 의 절대값 $\\sqrt{y^2+b^2}$ 이다."
   ]
  },
  {
   "cell_type": "code",
   "execution_count": 13,
   "metadata": {},
   "outputs": [
    {
     "name": "stdout",
     "output_type": "stream",
     "text": [
      "1. type = <class 'complex'>\n",
      "   id = 4540437904\n",
      "   y =(1+5j)\n",
      "2. 실수 = 1.0, 허수 =5.0 \n",
      "3. 켤레복소수 = (1-5j) \n",
      "4. 복수수의 절대값 = 5.0990195135927845 \n"
     ]
    }
   ],
   "source": [
    "y = 5j + 1\n",
    "print(\"1. type = {}\\n   id = {}\\n   y ={}\".format(type(y), id(y), y))\n",
    "print(\"2. 실수 = {}, 허수 ={} \".format(y.real, y.imag))\n",
    "print(\"3. 켤레복소수 = {} \".format(y.conjugate()))\n",
    "print(\"4. 복수수의 절대값 = {} \".format(abs(y)))\n"
   ]
  },
  {
   "cell_type": "markdown",
   "metadata": {},
   "source": [
    "### 라. boolean(True/False)"
   ]
  },
  {
   "cell_type": "markdown",
   "metadata": {},
   "source": [
    "## 2. 군집을 다루는 자료형\n",
    "### 가. 문자열 str"
   ]
  },
  {
   "cell_type": "code",
   "execution_count": 14,
   "metadata": {},
   "outputs": [
    {
     "name": "stdout",
     "output_type": "stream",
     "text": [
      "akami\n",
      "1. type = <class 'str'>\n",
      "   id = 4539181968\n",
      "   name =akami\n",
      "2. type = <class 'str'>\n",
      "   id = 4540641608\n",
      "   name =kang\n",
      "3. type = <class 'str'>\n",
      "   id = 4541050072\n",
      "   name =kim\n",
      "kang\n",
      "akami\n",
      "hi!~\n",
      "\n"
     ]
    }
   ],
   "source": [
    "name = 'akami'\n",
    "print(name)\n",
    "print(\"1. type = {}\\n   id = {}\\n   name ={}\".format(type(name), id(name), name))\n",
    "name = \"\"\"kang\"\"\"\n",
    "print(\"2. type = {}\\n   id = {}\\n   name ={}\".format(type(name), id(name), name))\n",
    "name = \"\"\"kim\n",
    "kang\n",
    "akami\n",
    "hi!~\n",
    "\"\"\"\n",
    "print(\"3. type = {}\\n   id = {}\\n   name ={}\".format(type(name), id(name), name))"
   ]
  },
  {
   "cell_type": "markdown",
   "metadata": {},
   "source": [
    "### 다. tuple(튜플)\n",
    " * 괄호()로 표현한다.\n",
    " * 리스트와 비슷하지만 내부에 있는 데이터를 수정하거나 삭제 할 수 없는 상수와 같은 개념이다."
   ]
  },
  {
   "cell_type": "code",
   "execution_count": 15,
   "metadata": {},
   "outputs": [
    {
     "name": "stdout",
     "output_type": "stream",
     "text": [
      "1. type = <class 'tuple'>\n",
      "   id = 4540308648\n",
      "   data =(3, 6, 7, 5, 3)\n"
     ]
    }
   ],
   "source": [
    "data = (3,6,7,5,3)\n",
    "print(\"1. type = {}\\n   id = {}\\n   data ={}\".format(type(data), id(data), data))"
   ]
  },
  {
   "cell_type": "markdown",
   "metadata": {},
   "source": [
    "### 라. 집합 set\n",
    " * java와 동일한 collection 객체중 하나인 set 처럼 중복된 데이터가 들어갈 수 없다."
   ]
  },
  {
   "cell_type": "code",
   "execution_count": 24,
   "metadata": {},
   "outputs": [
    {
     "name": "stdout",
     "output_type": "stream",
     "text": [
      "1. type = <class 'set'>\n",
      "   id = 4540618568\n",
      "   names ={32, 1, 3, 4, 5, 22}\n",
      "2-1. a & b = {30}\n",
      "2-2. a.intersection(b) = {30}\n",
      "3-1. a | b = {} {50, 20, 40, 10, 30}\n",
      "3-1. a.union(b) {50, 20, 40, 10, 30}\n",
      "4-1. a - b = {10, 20}\n",
      "4-1. a.difference(b) {10, 20}\n"
     ]
    }
   ],
   "source": [
    "names = {1,22,32,3,3,4,5}\n",
    "#순서를 알 수 없다.\n",
    "print(\"1. type = {}\\n   id = {}\\n   names ={}\".format(type(names), id(names), names))\n",
    "\n",
    "#교집합\n",
    "a = set([10, 20, 30])\n",
    "b = set([30, 40, 50])\n",
    "print(\"2-1. a & b = {}\".format(a&b))\n",
    "print(\"2-2. a.intersection(b) = {}\".format(a.intersection(b)))\n",
    "\n",
    "#합집합\n",
    "\n",
    "\n",
    "print(\"3-1. a | b = {}\", a | b)\n",
    "print(\"3-1. a.union(b)\", a.union(b))\n",
    "\n",
    "#차집합\n",
    "\n",
    "print(\"4-1. a - b =\", a - b)\n",
    "print(\"4-1. a.difference(b)\", a.difference(b))\n",
    "\n"
   ]
  },
  {
   "cell_type": "markdown",
   "metadata": {},
   "source": [
    "### 마. dict(사전)\n",
    " * key와 value가 한쌍으로 구성되는 집합의 종류"
   ]
  },
  {
   "cell_type": "code",
   "execution_count": 25,
   "metadata": {},
   "outputs": [
    {
     "name": "stdout",
     "output_type": "stream",
     "text": [
      "1. type = <class 'dict'>\n",
      "   id = 4540653072\n",
      "   group ={'A': 30, 'B': 20}\n"
     ]
    }
   ],
   "source": [
    "#예) A 그룹 10, B그룹 20 이라고 할때, 중복은 안됨\n",
    "group = {'A':10, 'B':20, 'A':30}\n",
    "print(\"1. type = {}\\n   id = {}\\n   group ={}\".format(type(group), id(group), group))"
   ]
  },
  {
   "cell_type": "markdown",
   "metadata": {},
   "source": [
    "### 바. 주석\n",
    " * 한줄 주석 #\n",
    " * 여러줄(범위) 주석 \"\"\" = > 이 쌍따옴표 3개로 작성한 것을 docstring 이라고 한다."
   ]
  },
  {
   "cell_type": "code",
   "execution_count": 26,
   "metadata": {},
   "outputs": [
    {
     "name": "stdout",
     "output_type": "stream",
     "text": [
      "HI\n"
     ]
    }
   ],
   "source": [
    "\"\"\"안녕하세요\n",
    "나는 akami 입니다.\n",
    "\"\"\"\n",
    "#인사할게요.\n",
    "print(\"HI\")"
   ]
  },
  {
   "cell_type": "code",
   "execution_count": null,
   "metadata": {},
   "outputs": [],
   "source": []
  }
 ],
 "metadata": {
  "kernelspec": {
   "display_name": "Python 3",
   "language": "python",
   "name": "python3"
  },
  "language_info": {
   "codemirror_mode": {
    "name": "ipython",
    "version": 3
   },
   "file_extension": ".py",
   "mimetype": "text/x-python",
   "name": "python",
   "nbconvert_exporter": "python",
   "pygments_lexer": "ipython3",
   "version": "3.6.3"
  }
 },
 "nbformat": 4,
 "nbformat_minor": 2
}
