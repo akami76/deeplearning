{
 "cells": [
  {
   "cell_type": "markdown",
   "metadata": {},
   "source": [
    "# Python의 데이터 타입 #"
   ]
  },
  {
   "cell_type": "markdown",
   "metadata": {},
   "source": [
    "## 1. 수치 자료형\n",
    "### 가. 정수 int"
   ]
  },
  {
   "cell_type": "code",
   "execution_count": 1,
   "metadata": {},
   "outputs": [
    {
     "name": "stdout",
     "output_type": "stream",
     "text": [
      "1. type = <class 'int'>\n",
      "   id = 4387338352\n",
      "   a =3\n",
      "2. a*3 = 9\n",
      "3. b = 9\n"
     ]
    }
   ],
   "source": [
    "#java와 달리 Type 선언없이 변수에 할당하면 그 타입으로 변수 선언\n",
    "a = 3\n",
    "b = a*3\n",
    "#한번 제대로 할당되었나 확인\n",
    "#print(a)\n",
    "print(\"1. type = {}\\n   id = {}\\n   a ={}\".format(type(a), id(a), a))\n",
    "print(\"2. a*3 = {}\".format(a*3))\n",
    "print(\"3. b = {}\".format(b))\n"
   ]
  },
  {
   "cell_type": "markdown",
   "metadata": {},
   "source": [
    "### 나. 소수 flat"
   ]
  },
  {
   "cell_type": "code",
   "execution_count": 2,
   "metadata": {},
   "outputs": [
    {
     "name": "stdout",
     "output_type": "stream",
     "text": [
      "1. type = <class 'float'>\n",
      "   id = 4435611744\n",
      "   a =3.0\n",
      "2. a*3 = 9.0\n",
      "3. b = 9.0\n"
     ]
    }
   ],
   "source": [
    "#위의 id를 보면 다르다 즉 위의 a와 아래 a는 다르다.\n",
    "a = 3.0\n",
    "b = a * 3\n",
    "print(\"1. type = {}\\n   id = {}\\n   a ={}\".format(type(a), id(a), a))\n",
    "print(\"2. a*3 = {}\".format(a*3))\n",
    "print(\"3. b = {}\".format(b))"
   ]
  },
  {
   "cell_type": "markdown",
   "metadata": {},
   "source": [
    "### 다. 복소수 complex\n",
    "* $$i^2 = -1 $$\n",
    "* 이때, 허수부 뒤에는 j 또는 J로 표현한다.\n",
    "* ps) 잊혀진 어두운 고등학교 시절의 수학시간을 떠올리게해서 불쾌하지만, 아쉬우니 다시본다.\n",
    "* ps) 복소수 $x=yi+b$ 의 절대값 $\\sqrt{y^2+b^2}$ 이다."
   ]
  },
  {
   "cell_type": "code",
   "execution_count": 3,
   "metadata": {},
   "outputs": [
    {
     "name": "stdout",
     "output_type": "stream",
     "text": [
      "1. type = <class 'complex'>\n",
      "   id = 4435747248\n",
      "   y =(1+5j)\n",
      "2. 실수 = 1.0, 허수 =5.0 \n",
      "3. 켤레복소수 = (1-5j) \n",
      "4. 복수수의 절대값 = 5.0990195135927845 \n"
     ]
    }
   ],
   "source": [
    "y = 5j + 1\n",
    "print(\"1. type = {}\\n   id = {}\\n   y ={}\".format(type(y), id(y), y))\n",
    "print(\"2. 실수 = {}, 허수 ={} \".format(y.real, y.imag))\n",
    "print(\"3. 켤레복소수 = {} \".format(y.conjugate()))\n",
    "print(\"4. 복수수의 절대값 = {} \".format(abs(y)))\n"
   ]
  },
  {
   "cell_type": "markdown",
   "metadata": {},
   "source": [
    "### 라. boolean(True/False)"
   ]
  },
  {
   "cell_type": "markdown",
   "metadata": {},
   "source": [
    "## 2. 군집을 다루는 자료형\n",
    "### 가. 문자열 str"
   ]
  },
  {
   "cell_type": "code",
   "execution_count": 4,
   "metadata": {},
   "outputs": [
    {
     "name": "stdout",
     "output_type": "stream",
     "text": [
      "akami\n",
      "1. type = <class 'str'>\n",
      "   id = 4434347432\n",
      "   name =akami\n",
      "2. type = <class 'str'>\n",
      "   id = 4435668584\n",
      "   name =kang\n",
      "3. type = <class 'str'>\n",
      "   id = 4435671128\n",
      "   name =kim\n",
      "kang\n",
      "akami\n",
      "hi!~\n",
      "\n"
     ]
    }
   ],
   "source": [
    "name = 'akami'\n",
    "print(name)\n",
    "print(\"1. type = {}\\n   id = {}\\n   name ={}\".format(type(name), id(name), name))\n",
    "name = \"\"\"kang\"\"\"\n",
    "print(\"2. type = {}\\n   id = {}\\n   name ={}\".format(type(name), id(name), name))\n",
    "name = \"\"\"kim\n",
    "kang\n",
    "akami\n",
    "hi!~\n",
    "\"\"\"\n",
    "print(\"3. type = {}\\n   id = {}\\n   name ={}\".format(type(name), id(name), name))"
   ]
  },
  {
   "cell_type": "markdown",
   "metadata": {},
   "source": [
    "### 나. 리스트 list\n",
    " * [',']' 즉 대괄호를 사용한다."
   ]
  },
  {
   "cell_type": "code",
   "execution_count": 5,
   "metadata": {},
   "outputs": [
    {
     "name": "stdout",
     "output_type": "stream",
     "text": [
      "1. type = <class 'list'>\n",
      "   id = 4435659848\n",
      "   scores =[80, 90, 85, 78]\n",
      "2. scores.append(50) :  [80, 90, 85, 78, 50]\n",
      "3. scores.pop() : 50\n",
      "4. scores.insert(1,15) : [80, 15, 90, 85, 78]\n",
      "5. del scores[3] : [80, 15, 90, 78]\n",
      "6. a.count('A+'):  2\n",
      "7. a.sort():  ['A+', 'A+', 'A0', 'B']\n",
      "8. a.reverse():  ['B', 'A0', 'A+', 'A+']\n",
      "9. a+scores:  ['B', 'A0', 'A+', 'A+', 80, 15, 90, 78]\n",
      "18.0\n",
      "9. b*2:  18.0\n"
     ]
    }
   ],
   "source": [
    "scores = [80, 90, 85, 78]\n",
    "print(\"1. type = {}\\n   id = {}\\n   scores ={}\".format(type(scores), id(scores), scores))\n",
    "\n",
    "scores.append(50)\n",
    "print(\"2. scores.append(50) : \",scores )\n",
    "print(\"3. scores.pop() :\",scores.pop() )\n",
    "scores.insert(1,15)\n",
    "print(\"4. scores.insert(1,15) :\",scores )\n",
    "del scores[3]\n",
    "print(\"5. del scores[3] :\",scores )\n",
    "\n",
    "#count()\n",
    "a = ['A+', 'A0', 'B','A+']\n",
    "print(\"6. a.count('A+'): \", a.count('A+'))\n",
    "a.sort()\n",
    "print(\"7. a.sort(): \",a)\n",
    "a.reverse()\n",
    "print(\"8. a.reverse(): \",a)\n",
    "print(\"9. a+scores: \",a+scores)\n",
    "print(b*2)\n",
    "print(\"9. b*2: \",b*2)\n",
    "\n"
   ]
  },
  {
   "cell_type": "markdown",
   "metadata": {},
   "source": [
    "### 다. tuple(튜플)\n",
    " * 괄호()로 표현한다.\n",
    " * 리스트와 비슷하지만 내부에 있는 데이터를 수정하거나 삭제 할 수 없는 상수와 같은 개념이다.\n",
    " 1. 리스트는 '[' 와 ']'를 사용하는 반면 튜플은 '('와 ')'를 사용한다. \n",
    " 2. 리스트는 리스트 내의 원소를 변경할 수 있지만 튜플은 변경할 수 없다. \n",
    " 3. 튜플이 더 속도가 빠르다."
   ]
  },
  {
   "cell_type": "code",
   "execution_count": 6,
   "metadata": {},
   "outputs": [
    {
     "name": "stdout",
     "output_type": "stream",
     "text": [
      "1. type = <class 'tuple'>\n",
      "   id = 4434880472\n",
      "   data =(3, 6, 7, 5, 3)\n"
     ]
    }
   ],
   "source": [
    "data = (3,6,7,5,3)\n",
    "print(\"1. type = {}\\n   id = {}\\n   data ={}\".format(type(data), id(data), data))"
   ]
  },
  {
   "cell_type": "markdown",
   "metadata": {},
   "source": [
    "### 라. 집합 set\n",
    " * java와 동일한 collection 객체중 하나인 set 처럼 중복된 데이터가 들어갈 수 없다."
   ]
  },
  {
   "cell_type": "code",
   "execution_count": 7,
   "metadata": {},
   "outputs": [
    {
     "name": "stdout",
     "output_type": "stream",
     "text": [
      "1. type = <class 'set'>\n",
      "   id = 4435734824\n",
      "   names ={32, 1, 3, 4, 5, 22}\n",
      "2-1. a & b = {30}\n",
      "2-2. a.intersection(b) = {30}\n",
      "3-1. a | b = {} {50, 20, 40, 10, 30}\n",
      "3-1. a.union(b) {50, 20, 40, 10, 30}\n",
      "4-1. a - b = {10, 20}\n",
      "4-1. a.difference(b) {10, 20}\n"
     ]
    }
   ],
   "source": [
    "names = {1,22,32,3,3,4,5}\n",
    "#순서를 알 수 없다.\n",
    "print(\"1. type = {}\\n   id = {}\\n   names ={}\".format(type(names), id(names), names))\n",
    "\n",
    "#교집합\n",
    "a = set([10, 20, 30])\n",
    "b = set([30, 40, 50])\n",
    "print(\"2-1. a & b = {}\".format(a&b))\n",
    "print(\"2-2. a.intersection(b) = {}\".format(a.intersection(b)))\n",
    "\n",
    "#합집합\n",
    "\n",
    "\n",
    "print(\"3-1. a | b = {}\", a | b)\n",
    "print(\"3-1. a.union(b)\", a.union(b))\n",
    "\n",
    "#차집합\n",
    "\n",
    "print(\"4-1. a - b =\", a - b)\n",
    "print(\"4-1. a.difference(b)\", a.difference(b))\n",
    "\n"
   ]
  },
  {
   "cell_type": "markdown",
   "metadata": {},
   "source": [
    "### 마. dict(사전)\n",
    " * key와 value가 한쌍으로 구성되는 집합의 종류"
   ]
  },
  {
   "cell_type": "code",
   "execution_count": 10,
   "metadata": {},
   "outputs": [
    {
     "name": "stdout",
     "output_type": "stream",
     "text": [
      "1. type = <class 'dict'>\n",
      "   id = 4436473104\n",
      "   group ={'A': 30, 'B': 20}\n",
      "{'A': 30, 'B': 20, 'X': 100}\n",
      "{'B': 20, 'X': 100}\n"
     ]
    },
    {
     "data": {
      "text/plain": [
       "dict_items([('B', 20), ('X', 100), ('W', 90), ('S', 30)])"
      ]
     },
     "execution_count": 10,
     "metadata": {},
     "output_type": "execute_result"
    }
   ],
   "source": [
    "#예) A 그룹 10, B그룹 20 이라고 할때, 중복은 안됨\n",
    "group = {'A':10, 'B':20, 'A':30}\n",
    "print(\"1. type = {}\\n   id = {}\\n   group ={}\".format(type(group), id(group), group))\n",
    "\n",
    "group['X'] = 100\n",
    "\n",
    "print(group)\n",
    "del group['A']\n",
    "print(group)\n",
    "\n",
    "group['W'] = 90\n",
    "group['S'] = 30\n",
    "\n",
    "group.items()"
   ]
  },
  {
   "cell_type": "code",
   "execution_count": 11,
   "metadata": {},
   "outputs": [
    {
     "data": {
      "text/plain": [
       "dict_keys(['B', 'X', 'W', 'S'])"
      ]
     },
     "execution_count": 11,
     "metadata": {},
     "output_type": "execute_result"
    }
   ],
   "source": [
    "group.keys()"
   ]
  },
  {
   "cell_type": "code",
   "execution_count": 12,
   "metadata": {},
   "outputs": [
    {
     "data": {
      "text/plain": [
       "90"
      ]
     },
     "execution_count": 12,
     "metadata": {},
     "output_type": "execute_result"
    }
   ],
   "source": [
    "group.get('W')"
   ]
  },
  {
   "cell_type": "markdown",
   "metadata": {},
   "source": [
    "### 바. 주석\n",
    " * 한줄 주석 #\n",
    " * 여러줄(범위) 주석 \"\"\" = > 이 쌍따옴표 3개로 작성한 것을 docstring 이라고 한다."
   ]
  },
  {
   "cell_type": "code",
   "execution_count": 13,
   "metadata": {},
   "outputs": [
    {
     "name": "stdout",
     "output_type": "stream",
     "text": [
      "HI\n"
     ]
    }
   ],
   "source": [
    "\"\"\"안녕하세요\n",
    "나는 akami 입니다.\n",
    "\"\"\"\n",
    "#인사할게요.\n",
    "print(\"HI\")"
   ]
  },
  {
   "cell_type": "code",
   "execution_count": null,
   "metadata": {},
   "outputs": [],
   "source": []
  }
 ],
 "metadata": {
  "kernelspec": {
   "display_name": "Python 3",
   "language": "python",
   "name": "python3"
  },
  "language_info": {
   "codemirror_mode": {
    "name": "ipython",
    "version": 3
   },
   "file_extension": ".py",
   "mimetype": "text/x-python",
   "name": "python",
   "nbconvert_exporter": "python",
   "pygments_lexer": "ipython3",
   "version": "3.6.3"
  }
 },
 "nbformat": 4,
 "nbformat_minor": 2
}
