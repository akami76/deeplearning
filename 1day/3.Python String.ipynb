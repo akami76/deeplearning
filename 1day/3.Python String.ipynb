{
 "cells": [
  {
   "cell_type": "markdown",
   "metadata": {},
   "source": [
    "# 3. Python의 문자열함수, print, input"
   ]
  },
  {
   "cell_type": "code",
   "execution_count": 1,
   "metadata": {},
   "outputs": [
    {
     "data": {
      "text/html": [
       "<div>\n",
       "<style>\n",
       "    .dataframe thead tr:only-child th {\n",
       "        text-align: right;\n",
       "    }\n",
       "\n",
       "    .dataframe thead th {\n",
       "        text-align: left;\n",
       "    }\n",
       "\n",
       "    .dataframe tbody tr th {\n",
       "        vertical-align: top;\n",
       "    }\n",
       "</style>\n",
       "<table border=\"1\" class=\"dataframe\">\n",
       "  <thead>\n",
       "    <tr style=\"text-align: right;\">\n",
       "      <th></th>\n",
       "      <th>Data</th>\n",
       "    </tr>\n",
       "  </thead>\n",
       "  <tbody>\n",
       "    <tr>\n",
       "      <th>0</th>\n",
       "      <td>A</td>\n",
       "    </tr>\n",
       "    <tr>\n",
       "      <th>1</th>\n",
       "      <td>1</td>\n",
       "    </tr>\n",
       "    <tr>\n",
       "      <th>2</th>\n",
       "      <td>2</td>\n",
       "    </tr>\n",
       "    <tr>\n",
       "      <th>3</th>\n",
       "      <td>3</td>\n",
       "    </tr>\n",
       "    <tr>\n",
       "      <th>4</th>\n",
       "      <td>4</td>\n",
       "    </tr>\n",
       "    <tr>\n",
       "      <th>5</th>\n",
       "      <td>5</td>\n",
       "    </tr>\n",
       "    <tr>\n",
       "      <th>6</th>\n",
       "      <td>6</td>\n",
       "    </tr>\n",
       "    <tr>\n",
       "      <th>7</th>\n",
       "      <td>7</td>\n",
       "    </tr>\n",
       "    <tr>\n",
       "      <th>8</th>\n",
       "      <td>8</td>\n",
       "    </tr>\n",
       "    <tr>\n",
       "      <th>9</th>\n",
       "      <td>9</td>\n",
       "    </tr>\n",
       "    <tr>\n",
       "      <th>10</th>\n",
       "      <td>0</td>\n",
       "    </tr>\n",
       "  </tbody>\n",
       "</table>\n",
       "</div>"
      ],
      "text/plain": [
       "   Data\n",
       "0     A\n",
       "1     1\n",
       "2     2\n",
       "3     3\n",
       "4     4\n",
       "5     5\n",
       "6     6\n",
       "7     7\n",
       "8     8\n",
       "9     9\n",
       "10    0"
      ]
     },
     "execution_count": 1,
     "metadata": {},
     "output_type": "execute_result"
    }
   ],
   "source": [
    "import pandas as pd\n",
    "#url = \"http://cozy.ddns.net:3888/notebooks/PythonSchool/aTO0.csv\"\n",
    "#pd.read_csv(url, nrows=2)\n",
    "\n",
    "raw_data ={\n",
    "            'Data':['A','1','2','3','4','5','6','7','8','9','0']\n",
    "          }\n",
    "df = pd.DataFrame(raw_data )\n",
    "df"
   ]
  },
  {
   "cell_type": "code",
   "execution_count": 2,
   "metadata": {},
   "outputs": [
    {
     "name": "stdout",
     "output_type": "stream",
     "text": [
      "aTO0[2] = 2\n",
      "aTO0[0:2] = A1\n",
      "aTO0[:5] = A1234\n",
      "aTO0[-2] = 9\n",
      "aTO0[1::2] = 13579\n",
      "aTO0[:5:2] = A24\n",
      "aTO0[9:3:-2] = 975\n",
      "hello world\n",
      "1 + 3 =4\n",
      "문자길이 len(a+b) = 10\n"
     ]
    }
   ],
   "source": [
    "aTO0 = 'A1234567890'\n",
    "#0 부터 시작하니 2인경우 2이 나온다.\n",
    "print(\"aTO0[2] = {}\".format(aTO0[2]))   \n",
    "\n",
    "#0부터 2-1 까지 \n",
    "print(\"aTO0[0:2] = {}\".format(aTO0[0:2])) \n",
    "\n",
    "#0부터 5-1까지\n",
    "print(\"aTO0[:5] = {}\".format(aTO0[:5])) \n",
    "\n",
    " #젤 뒤가 -1 이므로 -2이면 뒤에서 앞으로 한자리 앞이 나옴\n",
    "print(\"aTO0[-2] = {}\".format(aTO0[-2]))\n",
    "\n",
    "#2자리부터 끝까지 2칸씩 출력\n",
    "print(\"aTO0[1::2] = {}\".format(aTO0[1::2]))\n",
    "\n",
    "#0부터 5-1까지 2칸씩\n",
    "print(\"aTO0[:5:2] = {}\".format(aTO0[:5:2]))\n",
    "\n",
    "#9에서 3+1까지 -1칸씩\n",
    "print(\"aTO0[9:3:-2] = {}\".format(aTO0[9:3:-2]))\n",
    "\n",
    "a = \"hello\"\n",
    "b = 'world'\n",
    "\n",
    "print(a +' '+ b)\n",
    "\n",
    "x = '1 + 3 ='\n",
    "y = 4\n",
    "\n",
    "#숫자와 문자를 연산할 수 없다.\n",
    "#print(x + y)\n",
    "\n",
    "#이건 되어야 함????\n",
    "print(x + str(y))\n",
    "\n",
    "print(\"문자길이 len(a+b) = {}\".format(len(a+b)))"
   ]
  },
  {
   "cell_type": "markdown",
   "metadata": {},
   "source": [
    "## 3.1 %를 이용한 서식 출력\n",
    "print(' '%())\n",
    "* 문자열 : %s\n",
    "* 정수 : %d\n",
    "* 실수 : %f\n"
   ]
  },
  {
   "cell_type": "code",
   "execution_count": 7,
   "metadata": {},
   "outputs": [
    {
     "name": "stdout",
     "output_type": "stream",
     "text": [
      "Akami\n"
     ]
    }
   ],
   "source": [
    "name = 'akami'.title()\n",
    "print(name)"
   ]
  },
  {
   "cell_type": "code",
   "execution_count": 6,
   "metadata": {},
   "outputs": [
    {
     "data": {
      "text/plain": [
       "'akami'"
      ]
     },
     "execution_count": 6,
     "metadata": {},
     "output_type": "execute_result"
    }
   ],
   "source": [
    "name.lower()"
   ]
  },
  {
   "cell_type": "code",
   "execution_count": 8,
   "metadata": {},
   "outputs": [
    {
     "name": "stdout",
     "output_type": "stream",
     "text": [
      "^     Akami got ^100.00 score.\n"
     ]
    }
   ],
   "source": [
    "score = 99.999\n",
    "#%10s는  10자에 문자열을 넣는다.\n",
    "print(\"^%10s got ^%2.2f score.\"%(name, score))"
   ]
  },
  {
   "cell_type": "markdown",
   "metadata": {},
   "source": [
    "## 3.2 input 함수"
   ]
  },
  {
   "cell_type": "code",
   "execution_count": 9,
   "metadata": {},
   "outputs": [
    {
     "name": "stdout",
     "output_type": "stream",
     "text": [
      "15\n"
     ]
    }
   ],
   "source": [
    "x = int(input(\"Enter your number : \"))\n",
    "print(x * 3)"
   ]
  },
  {
   "cell_type": "code",
   "execution_count": null,
   "metadata": {},
   "outputs": [],
   "source": []
  }
 ],
 "metadata": {
  "kernelspec": {
   "display_name": "Python 3",
   "language": "python",
   "name": "python3"
  },
  "language_info": {
   "codemirror_mode": {
    "name": "ipython",
    "version": 3
   },
   "file_extension": ".py",
   "mimetype": "text/x-python",
   "name": "python",
   "nbconvert_exporter": "python",
   "pygments_lexer": "ipython3",
   "version": "3.6.3"
  }
 },
 "nbformat": 4,
 "nbformat_minor": 2
}
